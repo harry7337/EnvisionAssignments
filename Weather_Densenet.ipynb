{
  "cells": [
    {
      "cell_type": "markdown",
      "metadata": {
        "id": "view-in-github",
        "colab_type": "text"
      },
      "source": [
        "<a href=\"https://colab.research.google.com/github/harry7337/EnvisionAssignments/blob/main/Weather_Densenet.ipynb\" target=\"_parent\"><img src=\"https://colab.research.google.com/assets/colab-badge.svg\" alt=\"Open In Colab\"/></a>"
      ]
    },
    {
      "cell_type": "code",
      "execution_count": 1,
      "metadata": {
        "id": "nWP8zKGNG-32"
      },
      "outputs": [],
      "source": [
        "import tensorflow as tf\n",
        "from tensorflow import keras\n",
        "from keras.layers import Dense, Conv2D\n",
        "from keras.models import Sequential, Model\n",
        "from keras.preprocessing.image import ImageDataGenerator\n",
        "import numpy as np\n",
        "import matplotlib.pyplot as plt\n",
        "\n",
        "import cv2\n",
        "import numpy as np\n",
        "\n",
        "import os\n",
        "import PIL.Image as Image"
      ]
    },
    {
      "cell_type": "code",
      "execution_count": 2,
      "metadata": {
        "colab": {
          "base_uri": "https://localhost:8080/"
        },
        "id": "EGd3FHYo_rzw",
        "outputId": "cca600a0-190c-4483-8ed5-160456ee9491"
      },
      "outputs": [
        {
          "output_type": "stream",
          "name": "stdout",
          "text": [
            "Mounted at /content/drive\n"
          ]
        }
      ],
      "source": [
        "from google.colab import drive\n",
        "drive.mount('/content/drive')"
      ]
    },
    {
      "cell_type": "code",
      "execution_count": null,
      "metadata": {
        "colab": {
          "base_uri": "https://localhost:8080/",
          "height": 367
        },
        "id": "sXnDmXR7RDr2",
        "outputId": "95964cf2-3248-4c7c-d7ea-aaae46007c73"
      },
      "outputs": [
        {
          "output_type": "display_data",
          "data": {
            "text/plain": [
              "<IPython.core.display.HTML object>"
            ],
            "text/html": [
              "\n",
              "     <input type=\"file\" id=\"files-3986d188-8871-4df6-8724-6b1e2f55c10a\" name=\"files[]\" multiple disabled\n",
              "        style=\"border:none\" />\n",
              "     <output id=\"result-3986d188-8871-4df6-8724-6b1e2f55c10a\">\n",
              "      Upload widget is only available when the cell has been executed in the\n",
              "      current browser session. Please rerun this cell to enable.\n",
              "      </output>\n",
              "      <script src=\"/nbextensions/google.colab/files.js\"></script> "
            ]
          },
          "metadata": {}
        },
        {
          "output_type": "error",
          "ename": "MessageError",
          "evalue": "ignored",
          "traceback": [
            "\u001b[0;31m---------------------------------------------------------------------------\u001b[0m",
            "\u001b[0;31mMessageError\u001b[0m                              Traceback (most recent call last)",
            "\u001b[0;32m<ipython-input-3-aac4dfaac8e9>\u001b[0m in \u001b[0;36m<module>\u001b[0;34m()\u001b[0m\n\u001b[1;32m      1\u001b[0m \u001b[0;32mfrom\u001b[0m \u001b[0mgoogle\u001b[0m\u001b[0;34m.\u001b[0m\u001b[0mcolab\u001b[0m \u001b[0;32mimport\u001b[0m \u001b[0mfiles\u001b[0m\u001b[0;34m\u001b[0m\u001b[0;34m\u001b[0m\u001b[0m\n\u001b[1;32m      2\u001b[0m \u001b[0;34m\u001b[0m\u001b[0m\n\u001b[0;32m----> 3\u001b[0;31m \u001b[0mfiles\u001b[0m\u001b[0;34m.\u001b[0m\u001b[0mupload\u001b[0m\u001b[0;34m(\u001b[0m\u001b[0;34m)\u001b[0m\u001b[0;34m\u001b[0m\u001b[0;34m\u001b[0m\u001b[0m\n\u001b[0m",
            "\u001b[0;32m/usr/local/lib/python3.7/dist-packages/google/colab/files.py\u001b[0m in \u001b[0;36mupload\u001b[0;34m()\u001b[0m\n\u001b[1;32m     44\u001b[0m   \"\"\"\n\u001b[1;32m     45\u001b[0m \u001b[0;34m\u001b[0m\u001b[0m\n\u001b[0;32m---> 46\u001b[0;31m   \u001b[0muploaded_files\u001b[0m \u001b[0;34m=\u001b[0m \u001b[0m_upload_files\u001b[0m\u001b[0;34m(\u001b[0m\u001b[0mmultiple\u001b[0m\u001b[0;34m=\u001b[0m\u001b[0;32mTrue\u001b[0m\u001b[0;34m)\u001b[0m\u001b[0;34m\u001b[0m\u001b[0;34m\u001b[0m\u001b[0m\n\u001b[0m\u001b[1;32m     47\u001b[0m   \u001b[0;31m# Mapping from original filename to filename as saved locally.\u001b[0m\u001b[0;34m\u001b[0m\u001b[0;34m\u001b[0m\u001b[0;34m\u001b[0m\u001b[0m\n\u001b[1;32m     48\u001b[0m   \u001b[0mlocal_filenames\u001b[0m \u001b[0;34m=\u001b[0m \u001b[0mdict\u001b[0m\u001b[0;34m(\u001b[0m\u001b[0;34m)\u001b[0m\u001b[0;34m\u001b[0m\u001b[0;34m\u001b[0m\u001b[0m\n",
            "\u001b[0;32m/usr/local/lib/python3.7/dist-packages/google/colab/files.py\u001b[0m in \u001b[0;36m_upload_files\u001b[0;34m(multiple)\u001b[0m\n\u001b[1;32m    121\u001b[0m   result = _output.eval_js(\n\u001b[1;32m    122\u001b[0m       'google.colab._files._uploadFiles(\"{input_id}\", \"{output_id}\")'.format(\n\u001b[0;32m--> 123\u001b[0;31m           input_id=input_id, output_id=output_id))\n\u001b[0m\u001b[1;32m    124\u001b[0m   \u001b[0mfiles\u001b[0m \u001b[0;34m=\u001b[0m \u001b[0m_collections\u001b[0m\u001b[0;34m.\u001b[0m\u001b[0mdefaultdict\u001b[0m\u001b[0;34m(\u001b[0m\u001b[0m_six\u001b[0m\u001b[0;34m.\u001b[0m\u001b[0mbinary_type\u001b[0m\u001b[0;34m)\u001b[0m\u001b[0;34m\u001b[0m\u001b[0;34m\u001b[0m\u001b[0m\n\u001b[1;32m    125\u001b[0m \u001b[0;34m\u001b[0m\u001b[0m\n",
            "\u001b[0;32m/usr/local/lib/python3.7/dist-packages/google/colab/output/_js.py\u001b[0m in \u001b[0;36meval_js\u001b[0;34m(script, ignore_result, timeout_sec)\u001b[0m\n\u001b[1;32m     38\u001b[0m   \u001b[0;32mif\u001b[0m \u001b[0mignore_result\u001b[0m\u001b[0;34m:\u001b[0m\u001b[0;34m\u001b[0m\u001b[0;34m\u001b[0m\u001b[0m\n\u001b[1;32m     39\u001b[0m     \u001b[0;32mreturn\u001b[0m\u001b[0;34m\u001b[0m\u001b[0;34m\u001b[0m\u001b[0m\n\u001b[0;32m---> 40\u001b[0;31m   \u001b[0;32mreturn\u001b[0m \u001b[0m_message\u001b[0m\u001b[0;34m.\u001b[0m\u001b[0mread_reply_from_input\u001b[0m\u001b[0;34m(\u001b[0m\u001b[0mrequest_id\u001b[0m\u001b[0;34m,\u001b[0m \u001b[0mtimeout_sec\u001b[0m\u001b[0;34m)\u001b[0m\u001b[0;34m\u001b[0m\u001b[0;34m\u001b[0m\u001b[0m\n\u001b[0m\u001b[1;32m     41\u001b[0m \u001b[0;34m\u001b[0m\u001b[0m\n\u001b[1;32m     42\u001b[0m \u001b[0;34m\u001b[0m\u001b[0m\n",
            "\u001b[0;32m/usr/local/lib/python3.7/dist-packages/google/colab/_message.py\u001b[0m in \u001b[0;36mread_reply_from_input\u001b[0;34m(message_id, timeout_sec)\u001b[0m\n\u001b[1;32m    104\u001b[0m         reply.get('colab_msg_id') == message_id):\n\u001b[1;32m    105\u001b[0m       \u001b[0;32mif\u001b[0m \u001b[0;34m'error'\u001b[0m \u001b[0;32min\u001b[0m \u001b[0mreply\u001b[0m\u001b[0;34m:\u001b[0m\u001b[0;34m\u001b[0m\u001b[0;34m\u001b[0m\u001b[0m\n\u001b[0;32m--> 106\u001b[0;31m         \u001b[0;32mraise\u001b[0m \u001b[0mMessageError\u001b[0m\u001b[0;34m(\u001b[0m\u001b[0mreply\u001b[0m\u001b[0;34m[\u001b[0m\u001b[0;34m'error'\u001b[0m\u001b[0;34m]\u001b[0m\u001b[0;34m)\u001b[0m\u001b[0;34m\u001b[0m\u001b[0;34m\u001b[0m\u001b[0m\n\u001b[0m\u001b[1;32m    107\u001b[0m       \u001b[0;32mreturn\u001b[0m \u001b[0mreply\u001b[0m\u001b[0;34m.\u001b[0m\u001b[0mget\u001b[0m\u001b[0;34m(\u001b[0m\u001b[0;34m'data'\u001b[0m\u001b[0;34m,\u001b[0m \u001b[0;32mNone\u001b[0m\u001b[0;34m)\u001b[0m\u001b[0;34m\u001b[0m\u001b[0;34m\u001b[0m\u001b[0m\n\u001b[1;32m    108\u001b[0m \u001b[0;34m\u001b[0m\u001b[0m\n",
            "\u001b[0;31mMessageError\u001b[0m: TypeError: Cannot read properties of undefined (reading '_uploadFiles')"
          ]
        }
      ],
      "source": [
        "from google.colab import files\n",
        "\n",
        "files.upload()"
      ]
    },
    {
      "cell_type": "code",
      "execution_count": null,
      "metadata": {
        "collapsed": true,
        "id": "FF_0ZiJQx0nB"
      },
      "outputs": [],
      "source": [
        "#@title Download dataset and create Directories \n",
        "! mkdir ~/.kaggle\n",
        "! cp kaggle.json ~/.kaggle/\n",
        "! chmod 600 ~/.kaggle/kaggle.json\n",
        "!kaggle datasets download -d jehanbhathena/weather-dataset"
      ]
    },
    {
      "cell_type": "code",
      "execution_count": null,
      "metadata": {
        "collapsed": true,
        "id": "n7sFp7gZzF0e"
      },
      "outputs": [],
      "source": [
        "#@title Unzip\n",
        "!unzip \"./weather-dataset.zip\" -d \"./\""
      ]
    },
    {
      "cell_type": "code",
      "execution_count": 1,
      "metadata": {
        "id": "V0JCmdKhHBow"
      },
      "outputs": [],
      "source": [
        "import pathlib\n",
        "\n",
        "train_dir = \"/content/drive/MyDrive/Envision/train\"\n",
        "test_dir = \"/content/drive/MyDrive/Envision/test\"\n",
        "data_dir=pathlib.Path('/content/drive/MyDrive/Envision/train')"
      ]
    },
    {
      "cell_type": "code",
      "execution_count": 3,
      "metadata": {
        "id": "3OFjMAmb2tAv"
      },
      "outputs": [],
      "source": [
        "weather_labels = {\n",
        "    'dew':0,\n",
        "    'fogsmog':1,\n",
        "    'frost':2,\n",
        "    'glaze':3,\n",
        "    'hail':4,\n",
        "    'lightning':5,\n",
        "    'rain':6,\n",
        "    'rainbow':7,\n",
        "    'rime':8,\n",
        "    'sandstorm':9,\n",
        "    'snow':10\n",
        "}\n",
        "weather_dict = {\n",
        "    'dew':list(data_dir.glob('dew/*.jpg')),\n",
        "    'fogsmog':list(data_dir.glob('fogsmog/*.jpg')),\n",
        "    'frost':list(data_dir.glob('frost/*.jpg')),\n",
        "    'glaze':list(data_dir.glob('glaze/*.jpg')),\n",
        "    'hail':list(data_dir.glob('hail/*.jpg')),\n",
        "    'lightning':list(data_dir.glob('lightning/*.jpg')),\n",
        "    'rain':list(data_dir.glob('rain/*.jpg')),\n",
        "    'rainbow':list(data_dir.glob('rainbow/*.jpg')),\n",
        "    'rime':list(data_dir.glob('rime/*.jpg')),\n",
        "    'sandstorm':list(data_dir.glob('sandstorm/*.jpg')),\n",
        "    'snow':list(data_dir.glob('snow/*.jpg')),\n",
        "}\n",
        "\n",
        "weather_count = {\n",
        "    'dew':0,\n",
        "    'fogsmog':1,\n",
        "    'frost':2,\n",
        "    'glaze':3,\n",
        "    'hail':4,\n",
        "    'lightning':5,\n",
        "    'rain':6,\n",
        "    'rainbow':7,\n",
        "    'rime':8,\n",
        "    'sandstorm':9,\n",
        "    'snow':10\n",
        "}"
      ]
    },
    {
      "cell_type": "code",
      "execution_count": 4,
      "metadata": {
        "id": "xdE4QJFA8xPx",
        "colab": {
          "base_uri": "https://localhost:8080/"
        },
        "outputId": "f999945f-36b8-4c01-8bb4-0a097d5a0a6f"
      },
      "outputs": [
        {
          "output_type": "stream",
          "name": "stdout",
          "text": [
            "Image Count for  dew : 0\n",
            "Image Count for  fogsmog : 0\n",
            "Image Count for  frost : 0\n",
            "Image Count for  glaze : 0\n",
            "Image Count for  hail : 0\n",
            "Image Count for  lightning : 0\n",
            "Image Count for  rain : 0\n",
            "Image Count for  rainbow : 0\n",
            "Image Count for  rime : 0\n",
            "Image Count for  sandstorm : 0\n",
            "Image Count for  snow : 0\n",
            "Total Count=0\n"
          ]
        }
      ],
      "source": [
        "total=0\n",
        "for weather,_ in weather_labels.items():\n",
        "  image_count= len(list(data_dir.glob(f'{weather}/*.jpg')))\n",
        "  weather_count[weather]=image_count\n",
        "  total+=image_count\n",
        "  print('Image Count for ',weather,':',image_count)\n",
        "print(f'Total Count={total}')"
      ]
    },
    {
      "cell_type": "code",
      "execution_count": null,
      "metadata": {
        "id": "4YabdqCMEUje"
      },
      "outputs": [],
      "source": [
        "img = cv2.imread(str(weather_dict['dew'][1]))\n",
        "img.shape\n",
        "Image.fromarray(img)"
      ]
    },
    {
      "cell_type": "code",
      "execution_count": null,
      "metadata": {
        "id": "9aMiQaxeMiml"
      },
      "outputs": [],
      "source": [
        "IMAGE_SIZE =(400,400)\n",
        "BATCH_SIZE = 32\n",
        "\n",
        "train_datagen = ImageDataGenerator(\n",
        "    rescale = 1/255.0, \n",
        "    rotation_range = 20, \n",
        "    zoom_range = 0.2, \n",
        "    width_shift_range = 0.1, \n",
        "    height_shift_range = 0.1, \n",
        "    horizontal_flip = True, \n",
        "    vertical_flip = False\n",
        ")\n",
        "\n",
        "\n",
        "# Create minibatches that flow from directory\n",
        "train_generator = train_datagen.flow_from_directory(\n",
        "    train_dir, \n",
        "    target_size = IMAGE_SIZE, \n",
        "    color_mode = 'rgb', \n",
        "    batch_size = BATCH_SIZE, \n",
        "    class_mode = 'sparse',\n",
        "    shuffle = True\n",
        ")\n",
        "\n",
        "\n",
        "\n",
        "# create test generator for evaluation\n",
        "test_datagen = ImageDataGenerator(\n",
        "    rescale = 1/255.0\n",
        ")\n",
        "\n",
        "test_generator = test_datagen.flow_from_directory(\n",
        "    test_dir, \n",
        "    target_size = IMAGE_SIZE, \n",
        "    color_mode = 'rgb', \n",
        "    class_mode = 'sparse', \n",
        "    batch_size = 16, \n",
        "    shuffle = False   # IMPORTANT, don't shuffle in this case\n",
        ")"
      ]
    },
    {
      "cell_type": "code",
      "execution_count": null,
      "metadata": {
        "collapsed": true,
        "id": "KZJnMBZ7HB3Y"
      },
      "outputs": [],
      "source": [
        "densenetmodel = keras.applications.DenseNet169(weights='imagenet', include_top=False,input_shape=(400,400,3), classes =11)\n",
        "\n",
        "layer_dict = dict([(layer.name, layer) for layer in densenetmodel.layers])\n",
        "x = layer_dict['pool4_conv'].output\n",
        "\n",
        "\n",
        "x=keras.layers.Flatten()(x)\n",
        "x=Dense(100, activation='relu')(x)\n",
        "predictions = Dense(11, activation='softmax')(x)\n",
        "\n",
        "model=Model(densenetmodel.input, predictions)\n",
        "model.summary()"
      ]
    },
    {
      "cell_type": "code",
      "execution_count": null,
      "metadata": {
        "id": "PWrp-wcQHB7f"
      },
      "outputs": [],
      "source": [
        "for layers in model.layers [:52]:\n",
        "    layers.trainable = False"
      ]
    },
    {
      "cell_type": "code",
      "execution_count": null,
      "metadata": {
        "id": "53kJinwhHB-a"
      },
      "outputs": [],
      "source": [
        "model.compile(loss = \"sparse_categorical_crossentropy\", optimizer = keras.optimizers.Adam(learning_rate=0.0001), metrics=[\"accuracy\" ])"
      ]
    },
    {
      "cell_type": "code",
      "execution_count": null,
      "metadata": {
        "id": "k7TVf8fpo-nf"
      },
      "outputs": [],
      "source": [
        "tf.config.list_physical_devices('GPU')"
      ]
    },
    {
      "cell_type": "code",
      "execution_count": null,
      "metadata": {
        "id": "GLvxDkqIHCBS"
      },
      "outputs": [],
      "source": [
        "trial = model.fit(train_generator, epochs=10,shuffle =True)"
      ]
    },
    {
      "cell_type": "code",
      "execution_count": null,
      "metadata": {
        "id": "HnYGEEfWjQC-"
      },
      "outputs": [],
      "source": [
        "model.save('/contents/drive/MyDrive/Envision/Models/densenet_model.h5')"
      ]
    },
    {
      "cell_type": "code",
      "execution_count": 5,
      "metadata": {
        "id": "XzUYPBB_fDED",
        "colab": {
          "base_uri": "https://localhost:8080/",
          "height": 167
        },
        "outputId": "60f33401-e2c3-47f2-d475-02d1089d8ae9"
      },
      "outputs": [
        {
          "output_type": "error",
          "ename": "NameError",
          "evalue": "ignored",
          "traceback": [
            "\u001b[0;31m---------------------------------------------------------------------------\u001b[0m",
            "\u001b[0;31mNameError\u001b[0m                                 Traceback (most recent call last)",
            "\u001b[0;32m<ipython-input-5-e9ffa792cd31>\u001b[0m in \u001b[0;36m<module>\u001b[0;34m()\u001b[0m\n\u001b[0;32m----> 1\u001b[0;31m \u001b[0mmodel\u001b[0m \u001b[0;34m=\u001b[0m \u001b[0mkeras\u001b[0m\u001b[0;34m.\u001b[0m\u001b[0mmodels\u001b[0m\u001b[0;34m.\u001b[0m\u001b[0mload_model\u001b[0m\u001b[0;34m(\u001b[0m\u001b[0;34m'/contents/drive/MyDrive/Envision/Models/densenet_model.h5'\u001b[0m\u001b[0;34m)\u001b[0m\u001b[0;34m\u001b[0m\u001b[0;34m\u001b[0m\u001b[0m\n\u001b[0m",
            "\u001b[0;31mNameError\u001b[0m: name 'keras' is not defined"
          ]
        }
      ],
      "source": [
        "model = keras.models.load_model('/contents/drive/MyDrive/Envision/Models/densenet_model.h5')"
      ]
    },
    {
      "cell_type": "code",
      "execution_count": null,
      "metadata": {
        "id": "bPADW5dogX9N"
      },
      "outputs": [],
      "source": [
        "# get metrics on test data and print\n",
        "metrics = model.evaluate(test_generator, return_dict = True)\n",
        "for metric in metrics:\n",
        "  print(f\"{metric} : {metrics[metric]}\")"
      ]
    },
    {
      "cell_type": "code",
      "execution_count": null,
      "metadata": {
        "id": "_Jihbyolgedp"
      },
      "outputs": [],
      "source": [
        "# get probabalistic predictions and convert them to classes\n",
        "predictions = model.predict(test_generator)\n",
        "predictions = np.asarray([1 if i[0]>=0.5 else 0 for i in predictions])\n",
        "classes = test_generator.labels\n",
        "print(\"got predictions and classes\")"
      ]
    },
    {
      "cell_type": "code",
      "execution_count": null,
      "metadata": {
        "id": "tNs4B5BVHCGp"
      },
      "outputs": [],
      "source": [
        "import numpy as np\n",
        "from sklearn.metrics import classification_report,confusion_matrix\n",
        "import itertools\n",
        "from sklearn.metrics import plot_confusion_matrix, ConfusionMatrixDisplay\n",
        "names=('dew',\n",
        "    'fogsmog'\n",
        "    'frost',\n",
        "    'glaze',\n",
        "    'hail',\n",
        "    'lightning',\n",
        "    'rain',\n",
        "    'rainbow',\n",
        "    'rime',\n",
        "    'sandstorm',\n",
        "    'snow')\n",
        "Y_pred = model.predict(x_test)\n",
        "\n",
        "print(classification_report(y_test, np.argmax(Y_pred, axis=1),target_names=names))\n",
        "\n",
        "\n",
        "cm=confusion_matrix(y_test, np.argmax(Y_pred, axis=1))\n",
        "print(cm)"
      ]
    },
    {
      "cell_type": "code",
      "execution_count": null,
      "metadata": {
        "id": "osXZexGoHCIx"
      },
      "outputs": [],
      "source": [
        "plt.figure(figsize=(20,20))\n",
        "disp = ConfusionMatrixDisplay(confusion_matrix=cm, display_labels=names)\n",
        "disp.plot()\n",
        "plt.show()"
      ]
    }
  ],
  "metadata": {
    "colab": {
      "collapsed_sections": [],
      "name": "Weather Densenet.ipynb",
      "provenance": [],
      "include_colab_link": true
    },
    "kernelspec": {
      "display_name": "Python 3",
      "name": "python3"
    },
    "language_info": {
      "name": "python"
    }
  },
  "nbformat": 4,
  "nbformat_minor": 0
}