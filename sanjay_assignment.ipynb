{
 "cells": [
  {
   "cell_type": "code",
   "execution_count": null,
   "id": "275c9d70",
   "metadata": {},
   "outputs": [],
   "source": [
    "def fib(i1,i2,n):\n",
    "    i3=i1+i2\n",
    "    if i3<n:\n",
    "        fib(i2,i3,n)\n",
    "    else:\n",
    "        print(i2)"
   ]
  },
  {
   "cell_type": "code",
   "execution_count": null,
   "id": "4836eb21",
   "metadata": {},
   "outputs": [],
   "source": [
    "import numpy as np\n",
    "x=np.arange(2,3,0.1)\n",
    "print(x)"
   ]
  },
  {
   "cell_type": "code",
   "execution_count": null,
   "id": "f940a138",
   "metadata": {},
   "outputs": [],
   "source": [
    "import matplotlib.pyplot as plt\n",
    "import numpy as np\n",
    "def f(x,a,b,c):\n",
    "    return a*x*x+b*x+c\n",
    "\n",
    "\n",
    "xlist = np.linspace(-10,10,num=1000)\n",
    "ylist=f(xlist,3,5,8)\n",
    "plt.plot(xlist,ylist)\n",
    "plt.show()"
   ]
  },
  {
   "cell_type": "code",
   "execution_count": null,
   "id": "c22948a8",
   "metadata": {},
   "outputs": [],
   "source": [
    "def bin_srch(key,list,first,last):\n",
    "    mid=int((first+last)/2)\n",
    "    if (list[mid] != key) and (first == last):\n",
    "        print(\"not present\")\n",
    "        return\n",
    "    if list[mid]<key:\n",
    "        bin_srch(key,list,mid+1,last)\n",
    "    if list[mid]>key:\n",
    "        bin_srch(key,list,first,mid-1)\n",
    "    if list[mid]==key:\n",
    "        print(mid)\n",
    "        return"
   ]
  },
  {
   "cell_type": "code",
   "execution_count": null,
   "id": "52c31f60",
   "metadata": {},
   "outputs": [],
   "source": [
    "def bubble_sort(list):\n",
    "    for x in range(len(list)):\n",
    "        for i in range(len(list)-1):\n",
    "            if list[i]>list[i+1]:\n",
    "                 temp=list[i]\n",
    "                 list[i]=list[i+1]\n",
    "                 list[i+1]=temp\n",
    "    return list"
   ]
  },
  {
   "cell_type": "code",
   "execution_count": null,
   "id": "b5555f81",
   "metadata": {},
   "outputs": [],
   "source": [
    "def fact(n):\n",
    "    if n==1:\n",
    "        return 1\n",
    "    else:\n",
    "        return n*fact(n-1)"
   ]
  },
  {
   "cell_type": "code",
   "execution_count": null,
   "id": "83a77636",
   "metadata": {},
   "outputs": [],
   "source": [
    "dict1 = {1:123,2:67,3:783,\"4\":28,6:42,\"12\":234,89:90}\n",
    "sum=0\n",
    "for x in dict1:\n",
    "    sum+=dict1.get(x)\n",
    "\n",
    "print(sum)"
   ]
  }
 ],
 "metadata": {
  "kernelspec": {
   "display_name": "Python 3 (ipykernel)",
   "language": "python",
   "name": "python3"
  },
  "language_info": {
   "codemirror_mode": {
    "name": "ipython",
    "version": 3
   },
   "file_extension": ".py",
   "mimetype": "text/x-python",
   "name": "python",
   "nbconvert_exporter": "python",
   "pygments_lexer": "ipython3",
   "version": "3.9.7"
  }
 },
 "nbformat": 4,
 "nbformat_minor": 5
}
