{
  "cells": [
    {
      "cell_type": "markdown",
      "metadata": {
        "id": "YIKVf4RJVYtO"
      },
      "source": [
        "**Bubble Sort**\n",
        "\n",
        "Sort the following Array using bubble sort.\n",
        "\n",
        "[2,5,1345,34,-213,24,342,0,2,0,122,12]\n",
        "\n",
        "Use functions to implement your code.\n",
        "\n",
        "Hint:\n",
        "[Alogrithm](https://www.tutorialspoint.com/data_structures_algorithms/bubble_sort_algorithm.htm)\n",
        "\n"
      ]
    },
    {
      "cell_type": "code",
      "execution_count": null,
      "metadata": {},
      "outputs": [],
      "source": [
        "list = [2, 5, 1345, 34, -213, 24, 342, 0, 2, 0, 122, 12]\n",
        "\n",
        "for i in range(len(list)):\n",
        "    for j in range(0, len(list)-i-1):\n",
        "        if list[j] > list[j+1]:\n",
        "            list[j], list[j+1] = list[j+1], list[j]\n",
        "print(list)\n"
      ]
    },
    {
      "cell_type": "markdown",
      "metadata": {
        "id": "7o5JB_3kW1g9"
      },
      "source": [
        "Write a program to print the nth fibonacci number using recursion."
      ]
    },
    {
      "cell_type": "markdown",
      "metadata": {},
      "source": []
    },
    {
      "cell_type": "code",
      "execution_count": null,
      "metadata": {
        "id": "Uhhcsy9wXI1O"
      },
      "outputs": [],
      "source": [
        "def fibonacci(n):\n",
        "    if n == 1:\n",
        "        return 0\n",
        "    elif n == 2:\n",
        "        return 1\n",
        "    else:\n",
        "        return fibonacci(n-1) + fibonacci(n-2)\n",
        "\n",
        "\n",
        "n = int(input(\"Enter n to find nth fibonacci number : \"))\n",
        "print(fibonacci(n))\n"
      ]
    },
    {
      "cell_type": "markdown",
      "metadata": {
        "id": "BwSgPVERVXSU"
      },
      "source": [
        "Write a program to print the factorial of a number using loops, declare a function. "
      ]
    },
    {
      "cell_type": "code",
      "execution_count": null,
      "metadata": {
        "id": "75zM_akSYZKv"
      },
      "outputs": [],
      "source": [
        "n = int(input(\"Enter a number to find its factorial : \"))\n",
        "fact = 1\n",
        "for i in range(n, 0, -1):\n",
        "    fact *= i\n",
        "print(fact)\n"
      ]
    },
    {
      "cell_type": "markdown",
      "metadata": {
        "id": "TeJkjOcxYf8T"
      },
      "source": [
        "[Numpy](https://numpy.org/doc/stable/user/whatisnumpy.html)\n",
        "\n",
        "Create a numpy array of integers ((1,20),both inclusive), skiping the second number 1,3,5....\n",
        "\n",
        "Hint: Use np.arange"
      ]
    },
    {
      "cell_type": "code",
      "execution_count": null,
      "metadata": {
        "id": "8yrmWSa8dP-b"
      },
      "outputs": [],
      "source": [
        "import numpy as np\n",
        "x = np.arange(2, 21, 2)\n",
        "print(x)\n"
      ]
    },
    {
      "cell_type": "markdown",
      "metadata": {
        "id": "juvPAXqxYfGp"
      },
      "source": [
        "Write a function to check if a given string is a pallindrome."
      ]
    },
    {
      "cell_type": "code",
      "execution_count": null,
      "metadata": {
        "id": "U3iierkmdsVY"
      },
      "outputs": [],
      "source": [
        "string = \"radar\"\n",
        "if string == string[::-1]:\n",
        "    print(string + \" is a palindrome\")\n",
        "else:\n",
        "    print(string + \"is not a palindrome\")\n"
      ]
    },
    {
      "cell_type": "markdown",
      "metadata": {
        "id": "tYm5F3YGd72Q"
      },
      "source": [
        "[Matplotlib](https://matplotlib.org/stable/tutorials/introductory/pyplot.html)\n",
        "\n",
        "Plot the graph for: y = 3x + 2\n",
        "\n",
        "Plot the graph for: y = 3(x^2) + 5x + 8\n",
        "\n",
        "Use [np.arange](https://numpy.org/doc/stable/reference/generated/numpy.arange.html) and [np.power](https://numpy.org/doc/stable/reference/generated/numpy.power.html) "
      ]
    },
    {
      "cell_type": "code",
      "execution_count": null,
      "metadata": {
        "id": "UMqfwesvejus"
      },
      "outputs": [],
      "source": [
        "import matplotlib.pyplot as plt\n",
        "import numpy as np\n",
        "\n",
        "xpoints = np.linspace(0, 5, 100)\n",
        "ypoints = (3 * xpoints) + 2\n",
        "\n",
        "print(\"For y = 3x + 2 : \")\n",
        "plt.plot(xpoints, ypoints, label=\"y = 3x + 2\")\n",
        "plt.show()\n",
        "\n",
        "xpoints = np.linspace(0, 5, 100)\n",
        "ypoints = (3 * np.power(xpoints, 2)) + (5 * xpoints) + 8\n",
        "\n",
        "print(\"For y = 3(x^2) + 5x + 8 : \")\n",
        "plt.plot(xpoints, ypoints, label=\"y = 3x + 2\")\n",
        "plt.show()\n"
      ]
    },
    {
      "cell_type": "markdown",
      "metadata": {
        "id": "hBmrMcdZfWLC"
      },
      "source": [
        "Implement the [Binary Search](https://www.javatpoint.com/binary-search) alogorithm to search for a given number in a sorted array."
      ]
    },
    {
      "cell_type": "code",
      "execution_count": null,
      "metadata": {
        "id": "fz7pP3QdfPtf"
      },
      "outputs": [],
      "source": [
        "arr1 = [1, 2, 5, 6, 8, 90]\n",
        "key = 5\n",
        "\n",
        "\n",
        "def binarysearch(array, key):\n",
        "    low = 0\n",
        "    high = len(array) - 1\n",
        "\n",
        "    while low <= high:\n",
        "        mid = (low + high)//2\n",
        "        if array[mid] == key:\n",
        "            return mid\n",
        "        elif array[mid] <= key:\n",
        "            low = mid + 1\n",
        "        else:\n",
        "            high = mid - 1\n",
        "    return -1\n",
        "\n",
        "\n",
        "print(binarysearch(arr1, key))\n"
      ]
    },
    {
      "cell_type": "markdown",
      "metadata": {
        "id": "tJ4_924lgGuA"
      },
      "source": [
        "Write a program to sum all the values in the given dictionary."
      ]
    },
    {
      "cell_type": "code",
      "execution_count": null,
      "metadata": {
        "id": "VKeZHfL0f7tr"
      },
      "outputs": [],
      "source": [
        "dict1 = {1: 123, 2: 67, 3: 783, \"4\": 28, 6: 42, \"12\": 234, 89: 90}\n",
        "sum = 0\n",
        "for i in dict1:\n",
        "    sum += dict1[i]\n",
        "print(sum)\n"
      ]
    },
    {
      "cell_type": "markdown",
      "metadata": {
        "id": "uTyBvxr1h13g"
      },
      "source": [
        "Write a program to swap two variables using functions."
      ]
    },
    {
      "cell_type": "code",
      "execution_count": null,
      "metadata": {
        "id": "WTbgj1h4hecL"
      },
      "outputs": [],
      "source": [
        "num1 = 12\n",
        "num2 = 90\n",
        "\n",
        "\n",
        "def swap(num1, num2):\n",
        "    num1, num2 = num2, num1\n",
        "    return num1, num2\n",
        "\n",
        "\n",
        "num1, num2 = swap(num1, num2)\n",
        "print(num1, num2)\n"
      ]
    }
  ],
  "metadata": {
    "colab": {
      "name": "Pyhton_Assignment.ipynb",
      "provenance": []
    },
    "kernelspec": {
      "display_name": "Python 3",
      "name": "python3"
    },
    "language_info": {
      "name": "python",
      "version": "3.9.10"
    }
  },
  "nbformat": 4,
  "nbformat_minor": 0
}
