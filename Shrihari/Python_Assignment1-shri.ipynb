{
  "cells": [
    {
      "cell_type": "markdown",
      "metadata": {
        "id": "YIKVf4RJVYtO"
      },
      "source": [
        "**Bubble Sort**\n",
        "\n",
        "Sort the following Array using bubble sort.\n",
        "\n",
        "[2,5,1345,34,-213,24,342,0,2,0,122,12]\n",
        "\n",
        "Use functions to implement your code.\n",
        "\n",
        "Hint:\n",
        "[Alogrithm](https://www.tutorialspoint.com/data_structures_algorithms/bubble_sort_algorithm.htm)\n",
        "\n"
      ]
    },
    {
      "cell_type": "code",
      "execution_count": null,
      "metadata": {
        "id": "vOFj7M0IVFSB"
      },
      "outputs": [],
      "source": [
        "def bubbleSort(arr):\n",
        "    n = len(arr)\n",
        "    for i in range(n-1):\n",
        "        for j in range(0, n-i-1):\n",
        "            if arr[j] > arr[j + 1] :\n",
        "                arr[j], arr[j + 1] = arr[j + 1], arr[j]\n",
        "arr=[2,5,1345,34,-213,24,342,0,2,0,122,12]\n",
        "bubbleSort(arr)\n",
        "print (\"Sorted array:\")\n",
        "for i in range(len(arr)):\n",
        "    print (\"% d\" % arr[i],end=\" \")"
      ]
    },
    {
      "cell_type": "markdown",
      "metadata": {
        "id": "7o5JB_3kW1g9"
      },
      "source": [
        "Write a program to print the nth fibonacci number using recursion."
      ]
    },
    {
      "cell_type": "code",
      "execution_count": null,
      "metadata": {
        "id": "Uhhcsy9wXI1O"
      },
      "outputs": [],
      "source": [
        "def fibonacci(n):\n",
        "  if n<= 0:\n",
        "    print(\"Input is incorrect\")\n",
        "  elif n == 1:\n",
        "    return 0\n",
        "  elif n == 2:\n",
        "    return 1\n",
        "  else:\n",
        "    return fibonacci(n-1)+fibonacci(n-2)\n",
        "    \n"
      ]
    },
    {
      "cell_type": "markdown",
      "metadata": {
        "id": "BwSgPVERVXSU"
      },
      "source": [
        "Write a program to print the factorial of a number using loops, declare a function. "
      ]
    },
    {
      "cell_type": "code",
      "execution_count": null,
      "metadata": {
        "id": "75zM_akSYZKv"
      },
      "outputs": [],
      "source": [
        "def factorial(x):\n",
        "    if x == 1:\n",
        "        return 1\n",
        "    else:\n",
        "        return (x * factorial(x-1))\n",
        "\n",
        "num = int(input(\"Enter a number: \"))\n",
        "\n",
        "result = factorial(num)\n",
        "print(\"The factorial of\", num, \"is\", result)"
      ]
    },
    {
      "cell_type": "markdown",
      "metadata": {
        "id": "TeJkjOcxYf8T"
      },
      "source": [
        "[Numpy](https://numpy.org/doc/stable/user/whatisnumpy.html)\n",
        "\n",
        "Create a numpy array of integers ((1,20),both inclusive), skiping the second number 1,3,5....\n",
        "\n",
        "Hint: Use np.arange"
      ]
    },
    {
      "cell_type": "code",
      "execution_count": null,
      "metadata": {
        "id": "8yrmWSa8dP-b"
      },
      "outputs": [],
      "source": [
        "import numpy as np\n",
        "x = np.arange(1,21,2)\n",
        "print(x)"
      ]
    },
    {
      "cell_type": "markdown",
      "metadata": {
        "id": "juvPAXqxYfGp"
      },
      "source": [
        "Write a function to check if a given string is a pallindrome."
      ]
    },
    {
      "cell_type": "code",
      "execution_count": null,
      "metadata": {
        "id": "U3iierkmdsVY"
      },
      "outputs": [],
      "source": [
        "string = \"radar\"\n",
        "def isPalindrome(s):\n",
        "    return s == s[::-1]\n",
        " \n",
        "\n",
        "ans = isPalindrome(string)\n",
        "if ans:\n",
        "    print(\"Yes\")\n",
        "else:\n",
        "    print(\"No\")"
      ]
    },
    {
      "cell_type": "markdown",
      "metadata": {
        "id": "tYm5F3YGd72Q"
      },
      "source": [
        "[Matplotlib](https://matplotlib.org/stable/tutorials/introductory/pyplot.html)\n",
        "\n",
        "Plot the graph for: y = 3x + 2\n",
        "\n",
        "Plot the graph for: y = 3(x^2) + 5x + 8\n",
        "\n",
        "Use [np.arange](https://numpy.org/doc/stable/reference/generated/numpy.arange.html) and [np.power](https://numpy.org/doc/stable/reference/generated/numpy.power.html) "
      ]
    },
    {
      "cell_type": "code",
      "execution_count": null,
      "metadata": {
        "id": "UMqfwesvejus"
      },
      "outputs": [],
      "source": [
        "import matplotlib.pyplot as plt\n",
        "import numpy as np\n",
        "x = np.linspace(-2, 2, 100)\n",
        "y = 3*x **2 + 5*x +8\n",
        "\n",
        "fig = plt.figure(figsize = (10, 5))\n",
        "\n",
        "plt.plot(x, y)\n",
        "\n",
        "y = 3*x + 2\n",
        "\n",
        "plt.plot(x, y)\n",
        "\n",
        "plt.show()"
      ]
    },
    {
      "cell_type": "markdown",
      "metadata": {
        "id": "hBmrMcdZfWLC"
      },
      "source": [
        "Implement the [Binary Search](https://www.javatpoint.com/binary-search) alogorithm to search for a given number in a sorted array."
      ]
    },
    {
      "cell_type": "code",
      "execution_count": null,
      "metadata": {
        "id": "fz7pP3QdfPtf"
      },
      "outputs": [],
      "source": [
        "arr1 = [1,2,5,6,8,90]\n",
        "key = 5\n",
        "def binarysearch(arr,key):\n",
        "    low = 0\n",
        "    high = len(arr) - 1\n",
        "    mid = 0\n",
        " \n",
        "    while low <= high:\n",
        "        mid = (high + low) // 2\n",
        "        if arr[mid] < key:\n",
        "            low = mid + 1\n",
        "        elif arr[mid] > key:\n",
        "            high = mid - 1\n",
        "        else:\n",
        "            return mid\n",
        "    return -1\n",
        " \n",
        "result = binarysearch(arr1, key)\n",
        " \n",
        "if result != -1:\n",
        "    print(\"Element is present at index\", str(result))\n",
        "else:\n",
        "    print(\"Element is not present in array\")\n",
        "print(binarysearch(arr1,key))"
      ]
    },
    {
      "cell_type": "markdown",
      "metadata": {
        "id": "tJ4_924lgGuA"
      },
      "source": [
        "Write a program to sum all the values in the given dictionary."
      ]
    },
    {
      "cell_type": "code",
      "execution_count": null,
      "metadata": {
        "id": "VKeZHfL0f7tr"
      },
      "outputs": [],
      "source": [
        "dict1 = {1:123,2:67,3:783,\"4\":28,6:42,\"12\":234,89:90}\n",
        "def returnSum(myDict):\n",
        " \n",
        "    list = []\n",
        "    for i in myDict:\n",
        "        list.append(myDict[i])\n",
        "    final = sum(list)\n",
        " \n",
        "    return final\n",
        "\n",
        "\n",
        "print(\"Sum :\", returnSum(dict1))\n",
        "\n"
      ]
    },
    {
      "cell_type": "markdown",
      "metadata": {
        "id": "uTyBvxr1h13g"
      },
      "source": [
        "Write a program to swap two variables using functions."
      ]
    },
    {
      "cell_type": "code",
      "execution_count": null,
      "metadata": {
        "id": "WTbgj1h4hecL"
      },
      "outputs": [],
      "source": [
        "num1 = 12\n",
        "num2 = 90\n",
        "\n",
        "def swap(num1,num2):\n",
        "    x=num1\n",
        "    num1=num2\n",
        "    num2=x\n",
        "    return num1,num2\n",
        "\n",
        "print(num1,num2)"
      ]
    }
  ],
  "metadata": {
    "colab": {
      "name": "Pyhton_Assignment.ipynb",
      "provenance": []
    },
    "kernelspec": {
      "display_name": "Python 3",
      "name": "python3"
    },
    "language_info": {
      "name": "python"
    }
  },
  "nbformat": 4,
  "nbformat_minor": 0
}
