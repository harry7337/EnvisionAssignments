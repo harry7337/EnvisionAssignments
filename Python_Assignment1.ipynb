{
  "cells": [
    {
      "cell_type": "markdown",
      "metadata": {
        "id": "YIKVf4RJVYtO"
      },
      "source": [
        "**Bubble Sort**\n",
        "\n",
        "Sort the following Array using bubble sort.\n",
        "\n",
        "[2,5,1345,34,-213,24,342,0,2,0,122,12]\n",
        "\n",
        "Use functions to implement your code.\n",
        "\n",
        "Hint:\n",
        "[Alogrithm](https://www.tutorialspoint.com/data_structures_algorithms/bubble_sort_algorithm.htm)\n",
        "\n"
      ]
    },
    {
      "cell_type": "code",
      "execution_count": 1,
      "metadata": {
        "id": "vOFj7M0IVFSB"
      },
      "outputs": [
        {
          "name": "stdout",
          "output_type": "stream",
          "text": [
            "Sorted array is  [-213, 0, 0, 2, 2, 5, 12, 24, 34, 122, 342, 1345]\n"
          ]
        }
      ],
      "source": [
        "def main():\n",
        "    lst = [2,5,1345,34,-213,24,342,0,2,0,122,12]\n",
        "    print(\"Sorted array is \",sort(lst))\n",
        "\n",
        "def sort(lst):\n",
        "    length = len(lst)\n",
        "    j=0\n",
        "    while j!=length-1:\n",
        "        for i in range(length-1):\n",
        "            if lst[i+1]<lst[i]:\n",
        "                lst[i],lst[i+1]=lst[i+1],lst[i]\n",
        "        j+=1\n",
        "    return lst\n",
        "\n",
        "main()"
      ]
    },
    {
      "cell_type": "markdown",
      "metadata": {
        "id": "7o5JB_3kW1g9"
      },
      "source": [
        "Write a program to print the nth fibonacci number using recursion."
      ]
    },
    {
      "cell_type": "code",
      "execution_count": 2,
      "metadata": {
        "id": "Uhhcsy9wXI1O"
      },
      "outputs": [
        {
          "name": "stdout",
          "output_type": "stream",
          "text": [
            "Fibonacci num at this index is 3\n"
          ]
        }
      ],
      "source": [
        "def fibonacci(n):\n",
        "  if n==1:\n",
        "    return 0\n",
        "  elif n==2:\n",
        "    return 1\n",
        "\n",
        "  ans = fibonacci(n-1)+fibonacci(n-2)\n",
        "  return ans\n",
        "  #write your code\n",
        "  \n",
        "def main():\n",
        "  index = int(input(\"Enter index at which fiboncci num you want...? \"))\n",
        "  print(\"Fibonacci num at this index is \"+str(fibonacci(index)))\n",
        "\n",
        "main()"
      ]
    },
    {
      "cell_type": "markdown",
      "metadata": {
        "id": "BwSgPVERVXSU"
      },
      "source": [
        "Write a program to print the factorial of a number using loops, declare a function. "
      ]
    },
    {
      "cell_type": "code",
      "execution_count": 3,
      "metadata": {
        "id": "75zM_akSYZKv"
      },
      "outputs": [
        {
          "name": "stdout",
          "output_type": "stream",
          "text": [
            "Factorial of this number is 120\n"
          ]
        }
      ],
      "source": [
        "n = int(input(\"Which numbers factorial do you want? \"))\n",
        "value = 1\n",
        "\n",
        "for i in range(n):\n",
        "    value = value*(n-i)\n",
        "\n",
        "print(\"Factorial of this number is \"+str(value))"
      ]
    },
    {
      "cell_type": "markdown",
      "metadata": {
        "id": "TeJkjOcxYf8T"
      },
      "source": [
        "[Numpy](https://numpy.org/doc/stable/user/whatisnumpy.html)\n",
        "\n",
        "Create a numpy array of integers ((1,20),both inclusive), skiping the second number 1,3,5....\n",
        "\n",
        "Hint: Use np.arange"
      ]
    },
    {
      "cell_type": "code",
      "execution_count": 4,
      "metadata": {
        "id": "8yrmWSa8dP-b"
      },
      "outputs": [
        {
          "name": "stdout",
          "output_type": "stream",
          "text": [
            "[ 2  4  6  8 10 12 14 16 18 20]\n"
          ]
        }
      ],
      "source": [
        "import numpy as np\n",
        "x = np.arange(2,21,2)\n",
        "print(x)"
      ]
    },
    {
      "cell_type": "markdown",
      "metadata": {
        "id": "juvPAXqxYfGp"
      },
      "source": [
        "Write a function to check if a given string is a pallindrome."
      ]
    },
    {
      "cell_type": "code",
      "execution_count": 5,
      "metadata": {
        "id": "U3iierkmdsVY"
      },
      "outputs": [
        {
          "name": "stdout",
          "output_type": "stream",
          "text": [
            "String is a palindrome\n"
          ]
        }
      ],
      "source": [
        "string = \"radar\"\n",
        "string_rev = string[::-1]\n",
        "\n",
        "if string_rev==string:\n",
        "    print(\"String is a palindrome\")\n",
        "else:\n",
        "    print(\"String is not a palindrome\")"
      ]
    },
    {
      "cell_type": "markdown",
      "metadata": {
        "id": "tYm5F3YGd72Q"
      },
      "source": [
        "[Matplotlib](https://matplotlib.org/stable/tutorials/introductory/pyplot.html)\n",
        "\n",
        "Plot the graph for: y = 3x + 2\n",
        "\n",
        "Plot the graph for: y = 3(x^2) + 5x + 8\n",
        "\n",
        "Use [np.arange](https://numpy.org/doc/stable/reference/generated/numpy.arange.html) and [np.power](https://numpy.org/doc/stable/reference/generated/numpy.power.html) "
      ]
    },
    {
      "cell_type": "code",
      "execution_count": 6,
      "metadata": {
        "id": "UMqfwesvejus"
      },
      "outputs": [
        {
          "data": {
            "image/png": "[encoded data removed]",
            "text/plain": [
              "<Figure size 432x288 with 1 Axes>"
            ]
          },
          "metadata": {
            "needs_background": "light"
          },
          "output_type": "display_data"
        }
      ],
      "source": [
        "#Write code here\n",
        "import matplotlib.pyplot as plt\n",
        "\n",
        "x_eq1= [0,1,2]\n",
        "y_eq1= [2,5,8]\n",
        "\n",
        "x_eq2= [0,1,2]\n",
        "y_eq2= [8,16,30]\n",
        "\n",
        "plt.plot(x_eq1,y_eq1,label=\"Curve1 : 3x+2\")\n",
        "plt.plot(x_eq2,y_eq2,label=\"Curve2 : 3x^2+5x+8\")\n",
        "\n",
        "plt.xlabel(\"X->\")\n",
        "plt.ylabel(\"Y->\")\n",
        "\n",
        "plt.legend()\n",
        "plt.grid()\n",
        "plt.show()"
      ]
    },
    {
      "cell_type": "markdown",
      "metadata": {
        "id": "hBmrMcdZfWLC"
      },
      "source": [
        "Implement the [Binary Search](https://www.javatpoint.com/binary-search) alogorithm to search for a given number in a sorted array."
      ]
    },
    {
      "cell_type": "code",
      "execution_count": 7,
      "metadata": {
        "id": "fz7pP3QdfPtf"
      },
      "outputs": [
        {
          "name": "stdout",
          "output_type": "stream",
          "text": [
            "This num is located in position 3\n"
          ]
        }
      ],
      "source": [
        "def main():\n",
        "  arr1 = [1,2,5,6,8,90]\n",
        "  key = 5\n",
        "\n",
        "  ans = binarysearch(arr1,key)\n",
        "\n",
        "  if(ans != None):\n",
        "    print(\"This num is located in position \" + str(ans+1))\n",
        "  else:\n",
        "    print(\"Not Found!!!\")\n",
        "  \n",
        "def binarysearch(arr1,key):\n",
        "  start = 0\n",
        "  end = len(arr1)-1\n",
        "  mid = int((end+start)/2)\n",
        "\n",
        "  while start<=end:\n",
        "    if arr1[mid]==key:\n",
        "      return mid\n",
        "    elif arr1[mid]>key:\n",
        "      end = mid-1\n",
        "      mid = int((end+start)/2)\n",
        "      continue\n",
        "    else:\n",
        "      start = mid+1\n",
        "      mid = int((end+start)/2)\n",
        "      continue\n",
        "\n",
        "main()"
      ]
    },
    {
      "cell_type": "markdown",
      "metadata": {
        "id": "tJ4_924lgGuA"
      },
      "source": [
        "Write a program to sum all the values in the given dictionary."
      ]
    },
    {
      "cell_type": "code",
      "execution_count": 8,
      "metadata": {
        "id": "VKeZHfL0f7tr"
      },
      "outputs": [
        {
          "name": "stdout",
          "output_type": "stream",
          "text": [
            "1367\n"
          ]
        }
      ],
      "source": [
        "dict1 = {1:123,2:67,3:783,\"4\":28,6:42,\"12\":234,89:90}\n",
        "\n",
        "sum=0\n",
        "for key in dict1:\n",
        "    sum = sum + dict1[key]\n",
        "\n",
        "print(sum)"
      ]
    },
    {
      "cell_type": "markdown",
      "metadata": {
        "id": "uTyBvxr1h13g"
      },
      "source": [
        "Write a program to swap two variables using functions."
      ]
    },
    {
      "cell_type": "code",
      "execution_count": 9,
      "metadata": {
        "id": "WTbgj1h4hecL"
      },
      "outputs": [
        {
          "name": "stdout",
          "output_type": "stream",
          "text": [
            "Before swapping num1, num2 =  12 and 90 respectively\n",
            "After swapping num1, num2 =  90 and 12 respectively\n"
          ]
        }
      ],
      "source": [
        "def main():\n",
        "  num1 = 12\n",
        "  num2 = 90\n",
        "  print(\"Before swapping num1, num2 = \",num1,\"and\",num2,\"respectively\")\n",
        "  num1,num2=swap(num1,num2)\n",
        "  print(\"After swapping num1, num2 = \",num1,\"and\",num2,\"respectively\")\n",
        "  \n",
        "\n",
        "def swap(num1,num2):\n",
        "  num1,num2=num2,num1\n",
        "  return num1,num2\n",
        "\n",
        "main()"
      ]
    }
  ],
  "metadata": {
    "colab": {
      "name": "Pyhton_Assignment.ipynb",
      "provenance": []
    },
    "kernelspec": {
      "display_name": "Python 3",
      "name": "python3"
    },
    "language_info": {
      "codemirror_mode": {
        "name": "ipython",
        "version": 3
      },
      "file_extension": ".py",
      "mimetype": "text/x-python",
      "name": "python",
      "nbconvert_exporter": "python",
      "pygments_lexer": "ipython3",
      "version": "3.9.7"
    }
  },
  "nbformat": 4,
  "nbformat_minor": 0
}
