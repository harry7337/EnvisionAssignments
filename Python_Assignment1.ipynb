{
 "cells": [
  {
   "cell_type": "markdown",
   "metadata": {
    "id": "YIKVf4RJVYtO"
   },
   "source": [
    "**Bubble Sort**\n",
    "\n",
    "Sort the following Array using bubble sort.\n",
    "\n",
    "[2,5,1345,34,-213,24,342,0,2,0,122,12]\n",
    "\n",
    "Use functions to implement your code.\n",
    "\n",
    "Hint:\n",
    "[Alogrithm](https://www.tutorialspoint.com/data_structures_algorithms/bubble_sort_algorithm.htm)\n",
    "\n"
   ]
  },
  {
   "cell_type": "code",
   "execution_count": 27,
   "metadata": {
    "id": "vOFj7M0IVFSB",
    "scrolled": true
   },
   "outputs": [
    {
     "name": "stdout",
     "output_type": "stream",
     "text": [
      "Sorted array is:\n",
      "-213\n",
      "0\n",
      "0\n",
      "2\n",
      "2\n",
      "5\n",
      "12\n",
      "24\n",
      "34\n",
      "122\n",
      "342\n",
      "1345\n"
     ]
    }
   ],
   "source": [
    "def bubbleSort(arr):\n",
    "    n = len(arr)\n",
    "    for i in range(n-1):\n",
    "        for j in range(0, n-i-1):\n",
    "            if arr[j] > arr[j + 1] :\n",
    "                arr[j], arr[j + 1] = arr[j + 1], arr[j]\n",
    "                \n",
    "arr = [2,5,1345,34,-213,24,342,0,2,0,122,12]\n",
    " \n",
    "bubbleSort(arr)\n",
    " \n",
    "print (\"Sorted array is:\")\n",
    "for i in range(len(arr)):\n",
    "    print (arr[i])           "
   ]
  },
  {
   "cell_type": "markdown",
   "metadata": {
    "id": "7o5JB_3kW1g9"
   },
   "source": [
    "Write a program to print the nth fibonacci number using recursion."
   ]
  },
  {
   "cell_type": "code",
   "execution_count": 21,
   "metadata": {
    "id": "Uhhcsy9wXI1O"
   },
   "outputs": [
    {
     "name": "stdout",
     "output_type": "stream",
     "text": [
      "n for the nth fibonacci: 9\n",
      "9 th fibonacci is 21\n"
     ]
    }
   ],
   "source": [
    "def fibonacci(n):\n",
    "    if n <= 0:\n",
    "        print(\"incorrect input, enter a nmber greater than 0\")\n",
    "    elif n == 1:\n",
    "        return 0\n",
    "    elif n == 2:\n",
    "        return 1\n",
    "    else:\n",
    "        return fibonacci(n-1)+fibonacci(n-2)\n",
    "\n",
    "a = int(input(\"n for the nth fibonacci: \"))\n",
    "print (a,\"th fibonacci is\",\n",
    "fibonacci(a))"
   ]
  },
  {
   "cell_type": "markdown",
   "metadata": {
    "id": "BwSgPVERVXSU"
   },
   "source": [
    "Write a program to print the factorial of a number using loops, declare a function. "
   ]
  },
  {
   "cell_type": "code",
   "execution_count": 24,
   "metadata": {
    "id": "75zM_akSYZKv"
   },
   "outputs": [
    {
     "name": "stdout",
     "output_type": "stream",
     "text": [
      "Enter a number: 12\n",
      "Factorial of 12 is 479001600\n"
     ]
    }
   ],
   "source": [
    "def factorial(n): \n",
    "    if n < 0:\n",
    "        print(\"cant compute factorial of a negative number\")\n",
    "    elif n<1: \n",
    "        return 1 \n",
    "    else: \n",
    "        return n*factorial(n-1) \n",
    " \n",
    "n = int(input('Enter a number: ')) \n",
    "print('Factorial of',n,'is',factorial(n))"
   ]
  },
  {
   "cell_type": "markdown",
   "metadata": {
    "id": "TeJkjOcxYf8T"
   },
   "source": [
    "[Numpy](https://numpy.org/doc/stable/user/whatisnumpy.html)\n",
    "\n",
    "Create a numpy array of integers ((1,20),both inclusive), skiping the second number 1,3,5....\n",
    "\n",
    "Hint: Use np.arange"
   ]
  },
  {
   "cell_type": "code",
   "execution_count": 3,
   "metadata": {
    "id": "8yrmWSa8dP-b"
   },
   "outputs": [
    {
     "name": "stdout",
     "output_type": "stream",
     "text": [
      "[ 2  4  6  8 10 12 14 16 18]\n"
     ]
    }
   ],
   "source": [
    "import numpy as np\n",
    "x =np.arange(2,20,2)\n",
    "print(x)"
   ]
  },
  {
   "cell_type": "markdown",
   "metadata": {
    "id": "juvPAXqxYfGp"
   },
   "source": [
    "Write a function to check if a given string is a pallindrome."
   ]
  },
  {
   "cell_type": "code",
   "execution_count": 1,
   "metadata": {
    "id": "U3iierkmdsVY"
   },
   "outputs": [
    {
     "name": "stdout",
     "output_type": "stream",
     "text": [
      "Yes\n"
     ]
    }
   ],
   "source": [
    "#write your code here\n",
    "#function which returns reverse of a string\n",
    "def isPalindrome(s):\n",
    "    return s == s[::-1]\n",
    " \n",
    "s = \"radar\"\n",
    "ans = isPalindrome(s)\n",
    " \n",
    "if ans:\n",
    "    print(\"Yes\")\n",
    "else:\n",
    "    print(\"No\")"
   ]
  },
  {
   "cell_type": "markdown",
   "metadata": {
    "id": "tYm5F3YGd72Q"
   },
   "source": [
    "[Matplotlib](https://matplotlib.org/stable/tutorials/introductory/pyplot.html)\n",
    "\n",
    "Plot the graph for: y = 3x + 2\n",
    "\n",
    "Plot the graph for: y = 3(x^2) + 5x + 8\n",
    "\n",
    "Use [np.arange](https://numpy.org/doc/stable/reference/generated/numpy.arange.html) and [np.power](https://numpy.org/doc/stable/reference/generated/numpy.power.html) "
   ]
  },
  {
   "cell_type": "code",
   "execution_count": 9,
   "metadata": {
    "id": "UMqfwesvejus"
   },
   "outputs": [
    {
     "data": {
      "image/png": "[encoded data removed]",
      "text/plain": [
       "<Figure size 432x288 with 1 Axes>"
      ]
     },
     "metadata": {
      "needs_background": "light"
     },
     "output_type": "display_data"
    },
    {
     "data": {
      "image/png": "[encoded data removed]",
      "text/plain": [
       "<Figure size 432x288 with 1 Axes>"
      ]
     },
     "metadata": {
      "needs_background": "light"
     },
     "output_type": "display_data"
    }
   ],
   "source": [
    "import numpy as np\n",
    "import matplotlib.pyplot as plt\n",
    "x=np.arange(0,6,1)\n",
    "y1=3*x+2\n",
    "plt.plot(x, y1)\n",
    "plt.show()\n",
    "y2=3*np.power(x,2)+5*x+8\n",
    "plt.plot(x, y2)\n",
    "plt.show()"
   ]
  },
  {
   "cell_type": "markdown",
   "metadata": {
    "id": "hBmrMcdZfWLC"
   },
   "source": [
    "Implement the [Binary Search](https://www.javatpoint.com/binary-search) alogorithm to search for a given number in a sorted array."
   ]
  },
  {
   "cell_type": "code",
   "execution_count": null,
   "metadata": {
    "id": "fz7pP3QdfPtf"
   },
   "outputs": [],
   "source": [
    "arr1 = [1,2,5,6,8,90]\n",
    "key = 5\n",
    "def binarysearch(array,key):\n",
    "    beg=0\n",
    "    end=len(arr1)-1\n",
    "    pos=-1\n",
    "    while beg<=end:\n",
    "        mid=int((beg+end)/2)\n",
    "        if array[mid]==key:\n",
    "            pos=mid\n",
    "            return(pos)\n",
    "        elif mid<key:\n",
    "            beg=mid+1   \n",
    "        elif mid>key:\n",
    "            end=mid-1\n",
    "        \n",
    "\n",
    "print(binarysearch(arr1, key))\n",
    "#binarysearch(arr1, key)"
   ]
  },
  {
   "cell_type": "markdown",
   "metadata": {
    "id": "tJ4_924lgGuA"
   },
   "source": [
    "Write a program to sum all the values in the given dictionary."
   ]
  },
  {
   "cell_type": "code",
   "execution_count": 1,
   "metadata": {
    "id": "VKeZHfL0f7tr"
   },
   "outputs": [
    {
     "name": "stdout",
     "output_type": "stream",
     "text": [
      "1367\n"
     ]
    }
   ],
   "source": [
    "dict1 = {1:123,2:67,3:783,\"4\":28,6:42,\"12\":234,89:90}\n",
    "# write your code here\n",
    "print (sum(dict1.values()))\n"
   ]
  },
  {
   "cell_type": "markdown",
   "metadata": {
    "id": "uTyBvxr1h13g"
   },
   "source": [
    "Write a program to swap two variables using functions."
   ]
  },
  {
   "cell_type": "code",
   "execution_count": 15,
   "metadata": {
    "id": "WTbgj1h4hecL"
   },
   "outputs": [
    {
     "name": "stdout",
     "output_type": "stream",
     "text": [
      "90 12\n"
     ]
    }
   ],
   "source": [
    "num1 = 12\n",
    "num2 = 90\n",
    "\n",
    "def swap(num1,num2):\n",
    "  #write your code here\n",
    "    return num2, num1\n",
    "\n",
    "\n",
    "num1, num2 = swap(num1,num2)\n",
    "print(num1,num2)"
   ]
  }
 ],
 "metadata": {
  "colab": {
   "name": "Pyhton_Assignment.ipynb",
   "provenance": []
  },
  "kernelspec": {
   "display_name": "Python 3 (ipykernel)",
   "language": "python",
   "name": "python3"
  },
  "language_info": {
   "codemirror_mode": {
    "name": "ipython",
    "version": 3
   },
   "file_extension": ".py",
   "mimetype": "text/x-python",
   "name": "python",
   "nbconvert_exporter": "python",
   "pygments_lexer": "ipython3",
   "version": "3.9.0"
  }
 },
 "nbformat": 4,
 "nbformat_minor": 1
}
