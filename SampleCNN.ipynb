{
  "nbformat": 4,
  "nbformat_minor": 0,
  "metadata": {
    "colab": {
      "name": "TensorFlow3.ipynb",
      "provenance": [],
      "authorship_tag": "ABX9TyPTsWj6IsbrJxdfCg/ZMYbz",
      "include_colab_link": true
    },
    "kernelspec": {
      "name": "python3",
      "display_name": "Python 3"
    },
    "language_info": {
      "name": "python"
    },
    "accelerator": "GPU"
  },
  "cells": [
    {
      "cell_type": "markdown",
      "metadata": {
        "id": "view-in-github",
        "colab_type": "text"
      },
      "source": [
        "<a href=\"https://colab.research.google.com/github/harry7337/EnvisionAssignments/blob/main/SampleCNN.ipynb\" target=\"_parent\"><img src=\"https://colab.research.google.com/assets/colab-badge.svg\" alt=\"Open In Colab\"/></a>"
      ]
    },
    {
      "cell_type": "code",
      "metadata": {
        "id": "ps47yk6zWwhK"
      },
      "source": [
        "import numpy as np\n",
        "import matplotlib.pyplot as plt\n",
        "import tensorflow\n",
        "from tensorflow import keras\n",
        "from keras.layers import Dense, Flatten, Conv2D, MaxPool2D\n",
        "from keras.models import Sequential"
      ],
      "execution_count": null,
      "outputs": []
    },
    {
      "cell_type": "code",
      "metadata": {
        "id": "CQX7VXqYYh6y"
      },
      "source": [
        "mnist=keras.datasets.fashion_mnist"
      ],
      "execution_count": null,
      "outputs": []
    },
    {
      "cell_type": "code",
      "metadata": {
        "id": "lincuAlwY6Ts"
      },
      "source": [
        "(x_train,y_train),(x_val,y_val)=mnist.load_data()"
      ],
      "execution_count": null,
      "outputs": []
    },
    {
      "cell_type": "code",
      "metadata": {
        "colab": {
          "base_uri": "https://localhost:8080/"
        },
        "id": "e3i1jZxbZJqg",
        "outputId": "74d9c370-f828-478b-ee7c-ab2083182fdb"
      },
      "source": [
        "print(x_train.shape)\n",
        "print(x_val.shape)"
      ],
      "execution_count": null,
      "outputs": [
        {
          "output_type": "stream",
          "text": [
            "(60000, 28, 28)\n",
            "(10000, 28, 28)\n"
          ],
          "name": "stdout"
        }
      ]
    },
    {
      "cell_type": "code",
      "metadata": {
        "id": "tlNKP-8EZVIw"
      },
      "source": [
        "x_train=x_train.reshape(60000,28,28,1)\n",
        "x_val=x_val.reshape(10000,28,28,1)"
      ],
      "execution_count": null,
      "outputs": []
    },
    {
      "cell_type": "code",
      "metadata": {
        "id": "c6Ps-AuTZxms"
      },
      "source": [
        "def create_model(x_train):\n",
        "  model = Sequential([\n",
        "                      Conv2D(32,(3,3),activation='relu',input_shape=x_train.shape[1:]),\n",
        "\n",
        "                      MaxPool2D((2,2)),\n",
        "                                \n",
        "                      Conv2D(16, (3,3), activation='relu'),\n",
        "\n",
        "                      MaxPool2D((2,2)),\n",
        "\n",
        "                      Flatten(),\n",
        "\n",
        "                      Dense(128, activation='relu'),\n",
        "\n",
        "                      Dense(10, activation='softmax')\n",
        "  ])\n",
        "  return model\n",
        "                      \n",
        "                    "
      ],
      "execution_count": null,
      "outputs": []
    },
    {
      "cell_type": "code",
      "metadata": {
        "colab": {
          "base_uri": "https://localhost:8080/"
        },
        "id": "542BCviObz3e",
        "outputId": "60d8c140-03dc-4e38-951d-5f8c6fabfb87"
      },
      "source": [
        "model = create_model(x_train)\n",
        "model.summary()"
      ],
      "execution_count": null,
      "outputs": [
        {
          "output_type": "stream",
          "text": [
            "Model: \"sequential_4\"\n",
            "_________________________________________________________________\n",
            "Layer (type)                 Output Shape              Param #   \n",
            "=================================================================\n",
            "conv2d_8 (Conv2D)            (None, 26, 26, 32)        320       \n",
            "_________________________________________________________________\n",
            "max_pooling2d_8 (MaxPooling2 (None, 13, 13, 32)        0         \n",
            "_________________________________________________________________\n",
            "conv2d_9 (Conv2D)            (None, 11, 11, 16)        4624      \n",
            "_________________________________________________________________\n",
            "max_pooling2d_9 (MaxPooling2 (None, 5, 5, 16)          0         \n",
            "_________________________________________________________________\n",
            "flatten_4 (Flatten)          (None, 400)               0         \n",
            "_________________________________________________________________\n",
            "dense_8 (Dense)              (None, 128)               51328     \n",
            "_________________________________________________________________\n",
            "dense_9 (Dense)              (None, 10)                1290      \n",
            "=================================================================\n",
            "Total params: 57,562\n",
            "Trainable params: 57,562\n",
            "Non-trainable params: 0\n",
            "_________________________________________________________________\n"
          ],
          "name": "stdout"
        }
      ]
    },
    {
      "cell_type": "code",
      "metadata": {
        "id": "mm6na6MRcrnk"
      },
      "source": [
        "model.compile(optimizer='adam', loss = 'sparse_categorical_crossentropy', metrics=['accuracy'])\n"
      ],
      "execution_count": null,
      "outputs": []
    },
    {
      "cell_type": "code",
      "metadata": {
        "colab": {
          "base_uri": "https://localhost:8080/"
        },
        "id": "smVkIgOReUzR",
        "outputId": "31adfba6-fd94-4740-d61e-7eaed3631ea1"
      },
      "source": [
        "history=model.fit(x_train,y_train, epochs=10, validation_data=(x_val,y_val))"
      ],
      "execution_count": null,
      "outputs": [
        {
          "output_type": "stream",
          "text": [
            "Epoch 1/10\n",
            "1875/1875 [==============================] - 6s 3ms/step - loss: 1.0544 - accuracy: 0.7379 - val_loss: 0.4706 - val_accuracy: 0.8208\n",
            "Epoch 2/10\n",
            "1875/1875 [==============================] - 5s 3ms/step - loss: 0.4187 - accuracy: 0.8422 - val_loss: 0.3987 - val_accuracy: 0.8536\n",
            "Epoch 3/10\n",
            "1875/1875 [==============================] - 5s 3ms/step - loss: 0.3486 - accuracy: 0.8710 - val_loss: 0.3649 - val_accuracy: 0.8624\n",
            "Epoch 4/10\n",
            "1875/1875 [==============================] - 5s 3ms/step - loss: 0.3057 - accuracy: 0.8833 - val_loss: 0.3729 - val_accuracy: 0.8690\n",
            "Epoch 5/10\n",
            "1875/1875 [==============================] - 5s 3ms/step - loss: 0.2794 - accuracy: 0.8952 - val_loss: 0.3551 - val_accuracy: 0.8739\n",
            "Epoch 6/10\n",
            "1875/1875 [==============================] - 5s 3ms/step - loss: 0.2573 - accuracy: 0.9012 - val_loss: 0.3533 - val_accuracy: 0.8744\n",
            "Epoch 7/10\n",
            "1875/1875 [==============================] - 5s 3ms/step - loss: 0.2421 - accuracy: 0.9066 - val_loss: 0.3324 - val_accuracy: 0.8883\n",
            "Epoch 8/10\n",
            "1875/1875 [==============================] - 5s 3ms/step - loss: 0.2254 - accuracy: 0.9145 - val_loss: 0.3713 - val_accuracy: 0.8861\n",
            "Epoch 9/10\n",
            "1875/1875 [==============================] - 5s 3ms/step - loss: 0.2134 - accuracy: 0.9195 - val_loss: 0.3830 - val_accuracy: 0.8796\n",
            "Epoch 10/10\n",
            "1875/1875 [==============================] - 5s 3ms/step - loss: 0.2014 - accuracy: 0.9224 - val_loss: 0.3835 - val_accuracy: 0.8878\n"
          ],
          "name": "stdout"
        }
      ]
    },
    {
      "cell_type": "code",
      "metadata": {
        "colab": {
          "base_uri": "https://localhost:8080/",
          "height": 282
        },
        "id": "aMb8fuoIfOcq",
        "outputId": "53dd05d8-9907-446b-a0a0-52ea3d31f188"
      },
      "source": [
        "img = x_val[10]\n",
        "plt.imshow(img.reshape(28,28))\n",
        "print(y_val[10])"
      ],
      "execution_count": null,
      "outputs": [
        {
          "output_type": "stream",
          "text": [
            "4\n"
          ],
          "name": "stdout"
        },
        {
          "output_type": "display_data",
          "data": {
            "image/png": "[encoded data removed]",
            "text/plain": [
              "<Figure size 432x288 with 1 Axes>"
            ]
          },
          "metadata": {
            "tags": [],
            "needs_background": "light"
          }
        }
      ]
    },
    {
      "cell_type": "code",
      "metadata": {
        "colab": {
          "base_uri": "https://localhost:8080/"
        },
        "id": "Z-THDIY2fi7z",
        "outputId": "16a76990-8fc6-48ac-d881-91465acda2cc"
      },
      "source": [
        "pred = model.predict(img.reshape(1,28,28,1))[0]\n",
        "print(pred)"
      ],
      "execution_count": null,
      "outputs": [
        {
          "output_type": "stream",
          "text": [
            "[4.9847076e-06 5.9666370e-08 1.3679276e-03 9.0961808e-11 9.3807489e-01\n",
            " 1.2238364e-13 6.0552139e-02 4.1395354e-14 3.0688871e-10 1.1617836e-16]\n"
          ],
          "name": "stdout"
        }
      ]
    },
    {
      "cell_type": "code",
      "metadata": {
        "colab": {
          "base_uri": "https://localhost:8080/"
        },
        "id": "n_YO8dZWg6Fo",
        "outputId": "6a859877-41d1-4421-f091-c091a0707195"
      },
      "source": [
        "pred.shape"
      ],
      "execution_count": null,
      "outputs": [
        {
          "output_type": "execute_result",
          "data": {
            "text/plain": [
              "(10,)"
            ]
          },
          "metadata": {
            "tags": []
          },
          "execution_count": 63
        }
      ]
    },
    {
      "cell_type": "code",
      "metadata": {
        "colab": {
          "base_uri": "https://localhost:8080/"
        },
        "id": "JuFQlayqiOLa",
        "outputId": "4fa99f24-5b99-44c8-b34a-fb0bcf229e88"
      },
      "source": [
        "#mx = max(list(pred))\n",
        "max=0\n",
        "for i in range(10):\n",
        "  if pred[i]>max:\n",
        "    max=pred[i]\n",
        "for i in range(10):\n",
        "  if pred[i]==max:\n",
        "    print(i)\n"
      ],
      "execution_count": null,
      "outputs": [
        {
          "output_type": "stream",
          "text": [
            "4\n"
          ],
          "name": "stdout"
        }
      ]
    },
    {
      "cell_type": "code",
      "metadata": {
        "colab": {
          "base_uri": "https://localhost:8080/",
          "height": 325
        },
        "id": "-CEJPEWXiYWv",
        "outputId": "610588f1-556e-4ab5-fead-7f3d2b27d66b"
      },
      "source": [
        "plt.figure()\n",
        "fig,(a1,a2)=plt.subplots(1,2,figsize=(19,8))\n",
        "\n",
        "a1.plot(history.history['loss'])\n",
        "a1.plot(history.history['val_loss'])\n",
        "a1.legend(['Training loss', 'Validation loss'])\n",
        "\n",
        "a2.plot(history.history['accuracy'])\n",
        "a2.plot(history.history['val_accuracy'])\n",
        "a2.legend(['Training accuracy', 'Validation accuracy'])\n",
        "\n"
      ],
      "execution_count": null,
      "outputs": [
        {
          "output_type": "execute_result",
          "data": {
            "text/plain": [
              "<matplotlib.legend.Legend at 0x7f78ec36a710>"
            ]
          },
          "metadata": {
            "tags": []
          },
          "execution_count": 72
        },
        {
          "output_type": "display_data",
          "data": {
            "text/plain": [
              "<Figure size 432x288 with 0 Axes>"
            ]
          },
          "metadata": {
            "tags": []
          }
        },
        {
          "output_type": "display_data",
          "data": {
            "image/png": "[encoded data removed]",
            "text/plain": [
              "<Figure size 1368x576 with 2 Axes>"
            ]
          },
          "metadata": {
            "tags": [],
            "needs_background": "light"
          }
        }
      ]
    },
    {
      "cell_type": "code",
      "metadata": {
        "id": "bOxIE3Y7jT3-"
      },
      "source": [
        ""
      ],
      "execution_count": null,
      "outputs": []
    }
  ]
}